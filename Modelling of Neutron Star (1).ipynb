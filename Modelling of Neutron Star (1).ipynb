{
 "cells": [
  {
   "cell_type": "markdown",
   "id": "087cc8e6",
   "metadata": {},
   "source": [
    "# Modelling of Neutron Star with Python"
   ]
  },
  {
   "cell_type": "markdown",
   "id": "1e772a0e",
   "metadata": {},
   "source": [
    "#### <mark>Problem Statement: </mark>"
   ]
  },
  {
   "cell_type": "markdown",
   "id": "9071de43",
   "metadata": {},
   "source": [
    "Modelling of a Neutron star using the numerical method known as \"Runge-Kutta method of 4th order (RK4)\". \n",
    "We will be doing this with a Classical approach and Relativistic aproach.\n",
    "- Classical approach : Using Hydrostatic Equilibrium\n",
    "- Relativistic approach : Using Tolman-Oppenheimer-Volkoff (TOV) equations."
   ]
  },
  {
   "cell_type": "markdown",
   "id": "73b8a0af",
   "metadata": {},
   "source": [
    "**Runge Kutta Method** is a family of numerical methods used to solve ODE and system of Ordinary Differential Equations. It uses iterative steps to get an approximate solution of an ODE at any given point of time.\n",
    "\n",
    "**Hydrostatic Equilibrium Equations** discuss how the forces of gravity and gas pressure balance each other out so that the neutron star balances its shape and size.\n",
    "\n",
    "We will also be using the **Planck's System of Units** which sets the value of constants to 1 which allows for easier and more meaningful comparison between physical quantities.\n",
    "\n",
    "**Mass Profile :** This describes the variation in total mass enclosed within different radii. It is always the mass enclosed within the radius, r.\n",
    "\n",
    "**Pressure Profile :** This describes how the pressure varies from the center of the star till the surface. On the surface / crust of the star the pressure is 0 (or almost 0).\n",
    "\n",
    "**Pressure Description :** It is the result of balance between $F_g$ and pressure from degenerate neutron matter. It gives insight into the internal structure and properties of a star."
   ]
  },
  {
   "cell_type": "markdown",
   "id": "064e19e4",
   "metadata": {},
   "source": [
    "#### <mark>Overall Problem Statement</mark>:\n",
    "\n",
    "So the overall problem statement can be summed up as:\n",
    "- Generating mass and pressure profiles of a neutron star.\n",
    "- Using RK4 Numerical Methods to solve the ODEs - Classical and Relativistic.\n",
    "- Comparing the results from Classical and Relativistic Models."
   ]
  },
  {
   "cell_type": "markdown",
   "id": "ba09f26d",
   "metadata": {},
   "source": [
    "####  Defining the functions:"
   ]
  },
  {
   "cell_type": "code",
   "execution_count": 9,
   "id": "1012a5a8",
   "metadata": {},
   "outputs": [],
   "source": [
    "#importing the necessary libraries\n",
    "\n",
    "import numpy as np                     #for defining arrays and other numerical calculations\n",
    "import matplotlib.pyplot as plt        #for visualising our results"
   ]
  },
  {
   "cell_type": "markdown",
   "id": "7e0d836e",
   "metadata": {},
   "source": [
    "#### Concept of \"initial number density\" of a neutron star:"
   ]
  },
  {
   "cell_type": "markdown",
   "id": "8c8b4183",
   "metadata": {},
   "source": [
    "- It refers to the number of neutrons per unit volume at the very beginning of the star's formation.\n",
    "- This function uses the \"Newton-Raphson\" method to solve the equation that determines 'n'. This method is used as the equations are non-linear in nature.\n",
    "- The euqation for this is obtained by substituting the expressions for pressure and energy density from the TOV equations into the hydrostatic equilibrium equations."
   ]
  },
  {
   "cell_type": "markdown",
   "id": "70e7dd06",
   "metadata": {},
   "source": [
    "**Equation to be used in Newton Raphson Method:-**      \n",
    "$f(n) = {236.n^{2.54} + n.m_n - \\rho_s}$       \n",
    "$f'(n) = 236 \\times 2.54 \\times n^{1.54} + m_n$\n",
    "\n",
    "**Newton Raphson Method:-**          \n",
    "$n_{i+1} = n_i - \\frac{f(n_i)}{f'(n_i)}$"
   ]
  },
  {
   "cell_type": "code",
   "execution_count": 5,
   "id": "d8608421",
   "metadata": {},
   "outputs": [],
   "source": [
    "#Python Code for this:"
   ]
  },
  {
   "cell_type": "code",
   "execution_count": 6,
   "id": "0805a01c",
   "metadata": {},
   "outputs": [],
   "source": [
    "def initial_n():\n",
    "    \n",
    "    '''Initial number of neutrons per unit volume at radius=0'''\n",
    "    \n",
    "    n = 1                                   # Initial value of n\n",
    "    err = 1                                 # Inital Error\n",
    "    tol = 1e-15                             # Tolerance Value\n",
    "    count = 0                               # Tracking total number of iterations until it converges\n",
    "\n",
    "    # Newton-Raphson method\n",
    "    \n",
    "    while err > tol :                       # Until n converges\n",
    "        count += 1                          # Increment the count of the iteration\n",
    "        fn = 236*n**(2.54) + n*mn - rho_s   # Finding f(n_old)\n",
    "        dfn = 236*2.54*n**(1.54) + mn       # Finding f'(n_old)\n",
    "        temp = n - fn/dfn                   # Calculate n_new using Newton Raphson Method\n",
    "        err = np.abs(n-temp)                # Calculate the error\n",
    "        n = temp                            # Using this n value in next iteration for f(n_old), f'(n_old)\n",
    "        \n",
    "    print(\"Newton-Raphson Converged after \", count, \"iterations\")\n",
    "    return n"
   ]
  },
  {
   "cell_type": "markdown",
   "id": "7b24fd46",
   "metadata": {},
   "source": [
    "#### Concept of \"Energy density\" of a neutron star:"
   ]
  },
  {
   "cell_type": "markdown",
   "id": "2c3bd0bd",
   "metadata": {},
   "source": [
    "- This is density ($\\rho$) of the neutron star for the given pressure (p) at a particular point. It uses the TOV equations to determine the relationship between the pressure and density\n",
    "- First, we need to calculate the number density(n) of the neutron star using the input pressure (p) and the known values of the neutron mass (mn) and the nuclear density ($\\rho_s$)\n",
    "- The equation used is: $n = (\\frac{p.\\rho_s}{363.44})^{(1/2.54)}$\n",
    "- From the above known value of 'n', we calculate te energy density ($\\rho$) using the TOV equation: ${\\rho(p) = \\frac{236.n^{2.54} + n.m_n}{\\rho_s}}$"
   ]
  },
  {
   "cell_type": "code",
   "execution_count": 7,
   "id": "c77488a9",
   "metadata": {},
   "outputs": [],
   "source": [
    "#Python Code for this:"
   ]
  },
  {
   "cell_type": "code",
   "execution_count": 8,
   "id": "0ad15c08",
   "metadata": {},
   "outputs": [],
   "source": [
    "def rho(p):\n",
    "\n",
    "    '''Energy Density of a neutron star at a given pressure'''\n",
    "    \n",
    "# \"rho_s\" is the Central Density at radius = 0\n",
    "# \"mn\" is the mass of a neutron\n",
    "# \"n\" is the number density at a particular pressure\n",
    "    \n",
    "    n = (p*rho_s/363.44)**(1/2.54)\n",
    "    return (236. * n**2.54 + n *mn)/rho_s"
   ]
  },
  {
   "cell_type": "markdown",
   "id": "254d0437",
   "metadata": {},
   "source": [
    "#### Understanding \"Pressure Gradient\" :"
   ]
  },
  {
   "cell_type": "markdown",
   "id": "c9907ca1",
   "metadata": {},
   "source": [
    "\n",
    "#### Using 'Classical Model' :\n",
    "\n",
    "- This model is used to describe the equilibrium structure of the star and is based on the hydrostatic equilibrium equation, which relates the pressure gradient force to the gravitational force inside the star.\n",
    "- It assumes that the star is composed of non-interacting, non-relativistic particles, and neglects the effects of special and general relativity on the star's matter.\n",
    "\n",
    "#### Required equation of pressure gradient for the classical model : $\\frac{dP}{dr} = -\\frac{Gm(r)}{r^2}$$\\rho$\n",
    " But since we are using Planck Unit System, the value of 'G' is set to be 1. \n",
    " \n",
    "So, the updated equation is: $\\frac{dP}{dr} = -\\frac{m}{r^2}$$\\rho$\n",
    "\n",
    "\n",
    "#### Using 'Relativistic Model' :\n",
    "\n",
    "- TOV equations provide a framework for calculating the properties of a spherically symmetric, non-rotating, and a relativistic neutron star, such as its mass, radius, and central density. So it can be a good starting point for understanding the basic structure of the neutron star.\n",
    "\n",
    "#### Required equation of pressure gradient for the relativistic model : $\\frac{dP}{dr} = $  $-(\\rho + P/c^2)\\frac{Gm(r) + 4\\pi GPr^3/c^2}{r[r - 2Gm(r)/c^2]}$\n",
    "But since we are using Planck Unit system, the value of $G=c=4\\pi=1$\n",
    "\n",
    "So, the updated equation is: $\\frac{dP}{dr} = -\\frac{(\\rho + P)(m + Pr^3)}{r^2 - 2mr}$\n",
    "\n",
    "**NOTE:**\n",
    "- Since at the center of the star, the value of r=0, taking this value will actually be a problem as in the equations for both the model, the denominator becomes 0. So we take a very small value of r such as $1\\times10^{-20}$\n",
    "- We shall also use \"flagship variable\" to access the models in our program. For flag = 0 we shall use the 'Classical Model' and for flag = 1, we shall use the 'Relativistic Model'."
   ]
  },
  {
   "cell_type": "code",
   "execution_count": 10,
   "id": "d17b2e18",
   "metadata": {},
   "outputs": [],
   "source": [
    "#Python Code for this:"
   ]
  },
  {
   "cell_type": "code",
   "execution_count": 12,
   "id": "655c6510",
   "metadata": {},
   "outputs": [],
   "source": [
    "def dp_dr(r,m,p,flag):\n",
    "\n",
    "    '''Pressure Gradient of neutron star'''\n",
    "    \n",
    "# 'r' is the distance from the center of neutron star\n",
    "# 'm' is the mass enclosed within the value of r\n",
    "# 'p' is the pressure at that value of r\n",
    "# 'flag' is a flagship variable to choose between classical and relativistic models\n",
    "\n",
    "\n",
    "    if flag == 0:\n",
    "        # Classical Model\n",
    "        y = -m*rho(p)/(r**2 + 1e-20)\n",
    "\n",
    "    else:\n",
    "        # Relativistic Model\n",
    "        y = -(p+rho(p))*(m + p*r**3)/(r**2 - 2*m*r + 1e-20)\n",
    "\n",
    "    return y"
   ]
  },
  {
   "cell_type": "markdown",
   "id": "73db9234",
   "metadata": {},
   "source": [
    "#### Unserstanding \"Mass Gradient\":"
   ]
  },
  {
   "cell_type": "markdown",
   "id": "313b2dcd",
   "metadata": {},
   "source": [
    "- It is the change in mass enclosed within a radius r, with respect to the change in radius r, at a given pressure p.\n",
    "- So, based on the density profile of the star, the **mass gradient formula** can be written as: $\\frac{dm}{dr} = 4\\pi r^2\\rho$\n",
    "\n",
    "But since we are using the Planck Unit System, we take $4\\pi = 1$.\n",
    "\n",
    "So, the updated mass gradient equation is: $\\frac{dm}{dr} = r^2\\rho$"
   ]
  },
  {
   "cell_type": "code",
   "execution_count": 13,
   "id": "f2d0e5af",
   "metadata": {},
   "outputs": [],
   "source": [
    "#Python Code for this:"
   ]
  },
  {
   "cell_type": "code",
   "execution_count": 14,
   "id": "00a66620",
   "metadata": {},
   "outputs": [],
   "source": [
    "def dm_dr(r,m,p):\n",
    "\n",
    "    '''Mass Gradient of neutron star'''\n",
    "    \n",
    "# Same r, m, p that is used for pressure gradient are to be used for mass gradient\n",
    "\n",
    "    return rho(p)*r**2"
   ]
  },
  {
   "cell_type": "markdown",
   "id": "f949032b",
   "metadata": {},
   "source": [
    "\n"
   ]
  },
  {
   "cell_type": "markdown",
   "id": "5d59fb85",
   "metadata": {},
   "source": [
    "#### Runge Kutta Method of 4th Order (RK4) :"
   ]
  },
  {
   "cell_type": "markdown",
   "id": "05464b37",
   "metadata": {},
   "source": [
    "<img src=\"https://lowebms.readthedocs.io/en/latest/_images/RK4.png\" alt=\"Image Description\" width = 35%>\n",
    "\n",
    "- We are going to work with two systems of Ordinary Differential Equations: The pressure and mass gradient equations. Both the equations were the functions of r, m and P.\n",
    "- Now we use RK4 method to solve these equations\n",
    "- We must have initial conditions for r for which m and P are defined to get started with RK4 sovler as it calculates the next values of m and P dependent on the previous value that is some h units next to the initial r, that is, new values of m and P will be then calculated on $r_{new} = r_{old} + h.$\n",
    "- The value of $h$ determines the total steps to be performed in RK4 solver. For example, if $r_{0} = 0$ and $r_{1} = 0.4$ and if you choose the value of h to be 0.2 then it would take 2 steps to go from r = 0 to r = 0.4.\n",
    "- The concept is that in order to go from $r_{old}$ to $r_{new}$ RK4 calculates four different gradients, namely, $k_{11}$, $k_{12}$, $k_{13}$, $k_{14}$ for m and $k_{21}$, $k_{22}$, $k_{23}$, $k_{24}$ for P.\n",
    "\n",
    "\n",
    "**Calculation of Gradient:**\n",
    "\n",
    "  - $k_{11} = \\frac{dm}{dr}(r, m, P)$     \n",
    "  $k_{21} = \\frac{dP}{dr}(r, m, P)$\n",
    "\n",
    "  - $k_{12} = \\frac{dm}{dr}(r+0.5h, m+0.5hk_{11}, P+0.5hk_{21})$  \n",
    "  $k_{22} = \\frac{dP}{dr}(r+0.5h, m+0.5hk_{11}, P+0.5hk_{21})$  \n",
    "\n",
    "  - $k_{13} = \\frac{dm}{dr}(r+0.5h, m+0.5hk_{12}, P+0.5hk_{22})$  \n",
    "  $k_{23} = \\frac{dP}{dr}(r+0.5h, m+0.5hk_{12}, P+0.5hk_{22})$  \n",
    "\n",
    "  - $k_{14} = \\frac{dm}{dr}(r+h, m+hk_{13}, P+hk_{23})$  \n",
    "  $k_{24} = \\frac{dP}{dr}(r+h, m+hk_{13}, P+hk_{23})$  \n",
    "\n",
    "**Updation Step for m and P:**\n",
    "  - $m_{new} = m_{old} + \\frac{h}{6}(k_{11} + 2k_{12} + 2k_{13} + k_{14})$\n",
    "  - $P_{new} = P_{old} + \\frac{h}{6}(k_{21} + 2k_{22} + 2k_{23} + k_{24})$\n",
    " \n",
    "- We need to keep on updating m and P for the desired number of steps or until the solution has reached a desired value of r."
   ]
  },
  {
   "cell_type": "code",
   "execution_count": 17,
   "id": "c6a3683c",
   "metadata": {},
   "outputs": [],
   "source": [
    "#Python Code for this:"
   ]
  },
  {
   "cell_type": "code",
   "execution_count": 18,
   "id": "4fc9404d",
   "metadata": {},
   "outputs": [],
   "source": [
    "def RK4Solver(r,m,p,h,flag):\n",
    "\n",
    "    '''Runge - Kutta method of 4th order: Calculates 4 different pressure and mass gradients'''\n",
    "    \n",
    "# K1n is the Mass Gradients\n",
    "# K2n is the Pressure Gradients\n",
    "\n",
    "    y = np.zeros(2)      # For storing the next values of m and p\n",
    "\n",
    "    # Gradient 1 at start point\n",
    "    k11 = dm_dr(r, m, p)\n",
    "    k21 = dp_dr(r, m, p, flag)\n",
    "\n",
    "    # Gradient 2 at mid of start and end point\n",
    "    k12 = dm_dr(r + 0.5*h, m + 0.5*k11*h, p + 0.5*k21*h)\n",
    "    k22 = dp_dr(r + 0.5*h, m + 0.5*k11*h, p + 0.5*k21*h, flag)\n",
    "\n",
    "    # Gradient 3 at mid of start and end point\n",
    "    k13 = dm_dr(r + 0.5*h, m + 0.5*k12*h, p + 0.5*k22*h)\n",
    "    k23 = dp_dr(r + 0.5*h, m + 0.5*k12*h, p + 0.5*k22*h, flag)\n",
    "\n",
    "    # Gradient 4 at end point\n",
    "    k14 = dm_dr(r + h, m + k13*h, p + k23*h)\n",
    "    k24 = dp_dr(r + h, m + k13*h, p + k23*h, flag)\n",
    "\n",
    "    # Updation of m and p\n",
    "    y[0] = m + h*(k11 + 2*k12 + 2*k13 + k14)/6\n",
    "    y[1] = p + h*(k21 + 2*k22 + 2*k23 + k24)/6\n",
    "\n",
    "    return y"
   ]
  },
  {
   "cell_type": "markdown",
   "id": "307dada7",
   "metadata": {},
   "source": [
    "#### Plotting the \"Mass profile\" and the \"Pressure Profile\" :"
   ]
  },
  {
   "cell_type": "code",
   "execution_count": 20,
   "id": "4121a4a4",
   "metadata": {},
   "outputs": [],
   "source": [
    "#Python Code for this:"
   ]
  },
  {
   "cell_type": "code",
   "execution_count": 43,
   "id": "54a1bb2a",
   "metadata": {},
   "outputs": [],
   "source": [
    "def plot_data(color, label):\n",
    "\n",
    "    # Mass Profile\n",
    "    \n",
    "    plt.subplot(1, 2, 1)\n",
    "    plt.plot(r*R0*1e-18, m*M0/Ms, color = color, linewidth = 1.5, label = label)\n",
    "    plt.xlabel('Distance, $r$ (km)', fontsize = 13)\n",
    "    plt.ylabel('Mass, $M/M_{sun}$', fontsize = 13)\n",
    "    plt.title('Mass Profile of a Neutron Star', color = 'tab:red', weight = 'bold', fontsize = 15)\n",
    "    plt.xlim(left = 0)\n",
    "    plt.ylim(bottom = 0)\n",
    "    plt.legend(fontsize = 13, frameon = False)\n",
    "\n",
    "    # Pressure Profile\n",
    "    \n",
    "    plt.subplot(1, 2, 2)\n",
    "    plt.plot(r*R0*1e-18, p*rho_s, color = color, linewidth = 1.5, label = label)\n",
    "    plt.xlabel('Distance, $r$ (km)', fontsize = 13)\n",
    "    plt.ylabel('Pressure, $P$ $(MeV/fm^{3})$', fontsize = 13)\n",
    "    plt.title('Pressure Profile of a Neutron Star', color = 'tab:green', weight = 'bold', fontsize = 15)\n",
    "    plt.xlim(left = 0)\n",
    "    plt.ylim(bottom = 0)\n",
    "    plt.legend(fontsize = 13, frameon = False)"
   ]
  },
  {
   "cell_type": "markdown",
   "id": "c77ab5ff",
   "metadata": {},
   "source": [
    "#### Simulation parameters and Conversion Factors: "
   ]
  },
  {
   "cell_type": "code",
   "execution_count": 44,
   "id": "24e85aab",
   "metadata": {},
   "outputs": [],
   "source": [
    "hc = 197.327                                # conversion factor in MeV fm (h bar * c)\n",
    "G = hc * 6.67259e-45                        # gravitational constant in MeV^-1 fm^3 kg^-1\n",
    "Ms = 1.1157467e60                           # mass of Sun in MeV\n",
    "rho_s = 1665.3                              # central density of neutron star (density at r = 0) in MeV/fm^3\n",
    "M0 = (4*3.14159265*(G**3)*rho_s)**(-0.5)\n",
    "R0 = G*M0\n",
    "mn = 938.926                                # mass of a neutron in MeV c^-2"
   ]
  },
  {
   "cell_type": "markdown",
   "id": "7e3879f1",
   "metadata": {},
   "source": [
    "#### Initialising arrays and values:"
   ]
  },
  {
   "cell_type": "code",
   "execution_count": 45,
   "id": "bc633ac2",
   "metadata": {},
   "outputs": [
    {
     "name": "stdout",
     "output_type": "stream",
     "text": [
      "Newton-Raphson Converged after  5 iterations\n",
      "Initial number density, ni = 1.2918969375342138\n",
      "Initial Pressure, P[0] =  696.5487390842761 MeV/fm^3\n",
      "Simulation range, R = 0 to R = 90.36486611870906 km\n",
      "Step size for RK4 Solver: 0.01\n"
     ]
    }
   ],
   "source": [
    "'''Values for radius, step size and tolerance value'''\n",
    "N = 1501                              # Total number of data points\n",
    "r = np.linspace(0,15,N)               # values of radius to compute enclosed mass within it, pressure and density profiles\n",
    "h = r[1]-r[0]                         # step size for RK4Solver\n",
    "tol = 9e-5                            # tolerance for RK4Solver\n",
    "\n",
    "'''Arrays to store the updation values in RK4Solver'''\n",
    "m = np.zeros(N)                       # mass\n",
    "p = np.zeros(N)                       # pressure\n",
    "\n",
    "'''Initial Number Density of Neutrons at r = 0'''\n",
    "ni = initial_n()\n",
    "\n",
    "'''Setting intial values in the array - values at the center of the neutron star'''\n",
    "r[0] = 0                              # radius\n",
    "m[0] = 0                              # mass\n",
    "p[0] = 363.44 * (ni**2.54)/rho_s      # pressure\n",
    "\n",
    "'''Setting flags for choosing between classical and relativistic model'''\n",
    "flag_set = [0,1]\n",
    "\n",
    "'''Printing Inital Values'''\n",
    "\n",
    "print(\"Initial number density, ni =\", ni)\n",
    "print(\"Initial Pressure, P[0] = \", p[0]*rho_s, \"MeV/fm^3\")\n",
    "print(\"Simulation range, R = 0 to R =\", r[-1]*R0*1e-18, \"km\") # 1e-18 is the conversion factor from femtometers to kilometers\n",
    "print(\"Step size for RK4 Solver:\", h)\n"
   ]
  },
  {
   "cell_type": "markdown",
   "id": "b78ed61b",
   "metadata": {},
   "source": [
    "## <mark> Modelling a Neutron Star </mark>"
   ]
  },
  {
   "cell_type": "code",
   "execution_count": 46,
   "id": "9bd4da6f",
   "metadata": {},
   "outputs": [
    {
     "name": "stdout",
     "output_type": "stream",
     "text": [
      "\n",
      "==================================================================\n",
      "Classical Model Results: P < 9e-05 found after 275 runs\n",
      "==================================================================\n",
      "Initial density, rho_s =  1665.3 MeV/fm^3\n",
      "Total mass =  10.075592302895434 times Solar mass\n",
      "Radius of the Neutron star =  16.627135365842467 km\n",
      "\n",
      "==================================================================\n",
      "Relativistic Model Results: P < 9e-05 found after 161 runs\n",
      "==================================================================\n",
      "Initial density, rho_s =  1665.3 MeV/fm^3\n",
      "Total mass =  1.878156929086536 times Solar mass\n",
      "Radius of the Neutron star =  9.759405540820579 km\n",
      "\n"
     ]
    },
    {
     "data": {
      "image/png": "[encoded data removed]",
      "text/plain": [
       "<Figure size 1440x720 with 2 Axes>"
      ]
     },
     "metadata": {
      "needs_background": "light"
     },
     "output_type": "display_data"
    }
   ],
   "source": [
    "'''Using RK4 Numerical Method for modeling a neutron star'''\n",
    "plt.figure(figsize = (20, 10))                                   # setting up the figure size for subplots\n",
    "for k in range(0,2):                                            # k will take two values in this run --> 0 and 1\n",
    "    flag = flag_set[k]                                          # flag_set[0] = 0, flag_set[1] = 1\n",
    "    for i in range(0,N-1):                                      # for 1500 iterations\n",
    "        if flag == 0:                                           # if the flag is set to 0\n",
    "            [m[i+1], p[i+1]] = RK4Solver(r[i],m[i],p[i],h,flag) # use classical model\n",
    "        else:                                                   # if not 0\n",
    "            [m[i+1], p[i+1]] = RK4Solver(r[i],m[i],p[i],h,flag) # use relativistic model\n",
    "        if p[i+1] < tol:                                        # if the value of the pressure goes below tolerance (close to 0 as we know)\n",
    "            break                                               # the simulation is completed\n",
    "    print()                                                     # for a new line between outputs\n",
    "    if i == N-2:                                                # if the pressure value was not able to go below the tolerance value\n",
    "        lbl1 = \"Program didn't converge to P = 0, extend the maximum value of r\" # print to increase the itetarations of simulation --> values of r\n",
    "    else:                                                       # if simulation stopped before this\n",
    "        lbl1 = f\"P < {tol} found after {i} runs\"                # print the conclusion statement\n",
    "\n",
    "    '''Keep only the used indices of array discarding the remaining ones'''\n",
    "    m = m[:i+2] # m[0:i+2 --> Exclusive index]\n",
    "    p = p[:i+2]\n",
    "    r = r[:i+2]\n",
    "\n",
    "    '''Time to visualise and print the results'''\n",
    "    if flag == 0:\n",
    "        lbl = \"Classical Model\"\n",
    "        plot_data('tab:orange', \"Classical Model\")\n",
    "    else:\n",
    "        lbl = \"Relativistic Model\"\n",
    "        plot_data('tab:cyan', \"Relativistic Model\")\n",
    "\n",
    "    '''Printing the overall output'''\n",
    "    print (\"==================================================================\")\n",
    "    print (lbl, \"Results:\", lbl1)\n",
    "    print (\"==================================================================\")\n",
    "    print (\"Initial density, rho_s = \", rho_s, \"MeV/fm^3\")\n",
    "    print (\"Total mass = \", m[-1]*M0/Ms, \"times Solar mass\")\n",
    "    print (\"Radius of the Neutron star = \", r[-1]*R0*1e-18, \"km\")\n",
    "\n",
    "print()\n",
    "plt.subplots_adjust(wspace = 0.15)"
   ]
  },
  {
   "cell_type": "markdown",
   "id": "a15195f9",
   "metadata": {},
   "source": [
    "## Conclusion:"
   ]
  },
  {
   "cell_type": "markdown",
   "id": "bc550e5c",
   "metadata": {},
   "source": [
    "For the Classical Model to meet the condition for pressure, it took 275 iterations while for the Relativistic approach, it took 161 iterations. So the radius of the neutron star for the Classical Model will be higher for the Classical model than that of the Relativistic Model. So more mass will be enclosed within that particular value of 'R' for the Classical Model. \n",
    "\n",
    "Let us analyse which of these two models are giving us a good approximation as compared to what happens in the reality of a neutron star.\n",
    "\n",
    "A typical range of the mass of the neutron star lies between 1.4 times the solar mass to about 2 - 2.5 times the solar mass. But for the Classical Model we see the calculated mass is falling way beyond the known range.  But for the Relativistic Model the calculated mass is falling within the given range. \n",
    "\n",
    "Similarly, for the Radius of the neutron star, it falls between 8-9 km to about 15-16 km. So, for the Classical Model, it is falling slightly outside the range while for the Relativistic Model the radius is within the given range. \n",
    "\n",
    "Therefore, a non-relativistic model is not a good approximation for describing the properties of neutron stars, and a relativistic model is necessary to accurately predict the mass and other properties of neutron stars."
   ]
  }
 ],
 "metadata": {
  "kernelspec": {
   "display_name": "Python 3 (ipykernel)",
   "language": "python",
   "name": "python3"
  },
  "language_info": {
   "codemirror_mode": {
    "name": "ipython",
    "version": 3
   },
   "file_extension": ".py",
   "mimetype": "text/x-python",
   "name": "python",
   "nbconvert_exporter": "python",
   "pygments_lexer": "ipython3",
   "version": "3.9.12"
  }
 },
 "nbformat": 4,
 "nbformat_minor": 5
}
